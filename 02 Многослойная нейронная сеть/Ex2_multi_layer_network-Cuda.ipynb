{
 "cells": [
  {
   "cell_type": "code",
   "execution_count": 1,
   "id": "0024fa81",
   "metadata": {},
   "outputs": [],
   "source": [
    "import torch\n",
    "import numpy as np\n",
    "import torchvision as tv\n",
    "import pandas as pd\n",
    "import time\n",
    "import random\n",
    "\n",
    "import matplotlib.pyplot as plt\n",
    "%matplotlib inline"
   ]
  },
  {
   "cell_type": "code",
   "execution_count": 2,
   "id": "b5667c8c",
   "metadata": {},
   "outputs": [
    {
     "name": "stdout",
     "output_type": "stream",
     "text": [
      "cuda\n"
     ]
    }
   ],
   "source": [
    "# Определение устройства для вычислений (GPU/CPU)\n",
    "device = 'cuda' if torch.cuda.is_available() else 'cpu'\n",
    "print(device)"
   ]
  },
  {
   "cell_type": "code",
   "execution_count": 3,
   "id": "e6eee95b",
   "metadata": {
    "id": "qb_NW7cVmPZs"
   },
   "outputs": [],
   "source": [
    "BATCH_SIZE=256"
   ]
  },
  {
   "cell_type": "markdown",
   "id": "a3e05135-50c9-442a-a127-8fdbb44c96c4",
   "metadata": {},
   "source": [
    "## Загрузка данных"
   ]
  },
  {
   "cell_type": "code",
   "execution_count": 4,
   "id": "2ef7f558",
   "metadata": {
    "colab": {
     "base_uri": "https://localhost:8080/"
    },
    "id": "Kw5Kv2i6mPZu",
    "outputId": "abec58e9-6ac4-4622-af32-8d4ddc849f3d",
    "scrolled": true
   },
   "outputs": [],
   "source": [
    "# Загрузка и подготовка обучающего и тестового датасетов FashionMNIST,\n",
    "# преобразуя изображения в тензоры\n",
    "train_dataset = tv.datasets.FashionMNIST('.', train=True, transform=tv.transforms.ToTensor(), download=True)\n",
    "test_dataset = tv.datasets.FashionMNIST('.', train=False, transform=tv.transforms.ToTensor(), download=True)\n",
    "\n",
    "# создание DataLoader для пакетной обработки данных заданного размера BATCH_SIZE\n",
    "train = torch.utils.data.DataLoader(train_dataset, batch_size=BATCH_SIZE)\n",
    "val = torch.utils.data.DataLoader(test_dataset, batch_size=BATCH_SIZE)"
   ]
  },
  {
   "cell_type": "code",
   "execution_count": 5,
   "id": "87134c0f-3ac3-4b80-b31b-eab99b9d28c7",
   "metadata": {},
   "outputs": [
    {
     "data": {
      "image/png": "[encoded data removed]",
      "text/plain": [
       "<Figure size 800x300 with 10 Axes>"
      ]
     },
     "metadata": {},
     "output_type": "display_data"
    }
   ],
   "source": [
    "# Классы FashionMNIST\n",
    "classes = ['Футболка/топ', 'Брюки', 'Пуловер', 'Платье', 'Пальто',\n",
    "           'Сандалии', 'Рубашка', 'Кроссовки', 'Сумка', 'Ботильоны']\n",
    "\n",
    "# Создаем словарь для хранения индексов изображений по классам\n",
    "class_indices = {i: [] for i in range(len(classes))}\n",
    "\n",
    "# Заполняем словарь индексами\n",
    "for idx in range(len(train_dataset)):\n",
    "    _, label = train_dataset[idx]\n",
    "    class_indices[label].append(idx)\n",
    "\n",
    "# Вывод по одному случайному изображению из каждого класса\n",
    "fig, axes = plt.subplots(2, 5, figsize=(8, 3))  # 2 строки, 5 столбцов\n",
    "axes = axes.flatten()  # Преобразуем в одномерный массив\n",
    "\n",
    "for i, ax in enumerate(axes):\n",
    "    # Получаем случайный индекс из текущего класса\n",
    "    random_idx = random.choice(class_indices[i])\n",
    "    img, label = train_dataset[random_idx]\n",
    "    \n",
    "    ax.imshow(img.squeeze(), cmap='gray')\n",
    "    ax.set_title(classes[label])\n",
    "    ax.axis('off')\n",
    "\n",
    "plt.tight_layout()\n",
    "plt.show()"
   ]
  },
  {
   "cell_type": "code",
   "execution_count": 6,
   "id": "fe150a80",
   "metadata": {},
   "outputs": [],
   "source": [
    "# train_dataset[0][0].shape"
   ]
  },
  {
   "cell_type": "markdown",
   "id": "ccc94700",
   "metadata": {
    "id": "-LcgNXwOmPZ5"
   },
   "source": [
    "## Создание модели и определение параметров"
   ]
  },
  {
   "cell_type": "raw",
   "id": "43a73b5a-47dc-40fe-9b63-6ae0841efde7",
   "metadata": {},
   "source": [
    "# Определение архитектуры нейронной сети\n",
    "class Network(torch.nn.Module):\n",
    "    def __init__(self, X_size, y_size):\n",
    "        super(Network, self).__init__()  # Инициализация базового класса Module\n",
    "        \n",
    "        # Последовательная модель из слоев\n",
    "        self.sequental = torch.nn.Sequential(\n",
    "            # Преобразование входного тензора в 1D вектор (batch_size, X_size)\n",
    "            torch.nn.Flatten(),   \n",
    "            \n",
    "            # Полносвязный слой с нормализацией и активацией\n",
    "            torch.nn.Linear(X_size, 256),  # Линейное преобразование входных признаков\n",
    "            torch.nn.BatchNorm1d(256),     # Нормализация активаций по батчу\n",
    "            torch.nn.ReLU(),               # Нелинейная активация\n",
    "            \n",
    "            # Скрытый слой с регуляризацией\n",
    "            torch.nn.Linear(256, 128),     # Уменьшение размерности признаков\n",
    "            torch.nn.Dropout(p=0.7),       # Регуляризация методом исключения нейронов\n",
    "            torch.nn.ReLU(),               # Активация с линейным исправлением\n",
    "            \n",
    "            # Слой сжатия признакового пространства\n",
    "            torch.nn.Linear(128, 64),      # Дальнейшее уменьшение размерности\n",
    "            torch.nn.BatchNorm1d(64),      # Стабилизация градиентов\n",
    "            torch.nn.ReLU(),               # Введение нелинейности\n",
    "            \n",
    "            # Выходной слой классификации\n",
    "            torch.nn.Linear(64, y_size)    # Преобразование к размеру целевой переменной\n",
    "        )\n",
    "    \n",
    "    def forward(self, x):\n",
    "        # Прямой проход данных через последовательные слои\n",
    "        return self.sequental(x)  # Возврат логитов для классификации\n"
   ]
  },
  {
   "cell_type": "code",
   "execution_count": 7,
   "id": "6b52d28a-749a-4a48-a3f7-84aa285c19f6",
   "metadata": {},
   "outputs": [],
   "source": [
    "# Создание модели\n",
    "class Network(torch.nn.Module):\n",
    "    def __init__(self, X_size, y_size):\n",
    "        super(Network, self).__init__()   \n",
    "        self.sequental = torch.nn.Sequential(\n",
    "            torch.nn.Flatten(),   \n",
    "            \n",
    "            torch.nn.Linear(X_size, 256),  \n",
    "            torch.nn.BatchNorm1d(256),\n",
    "            torch.nn.ReLU(),     \n",
    "            \n",
    "            torch.nn.Linear(256, 128), \n",
    "            torch.nn.Dropout(p=0.7), \n",
    "            torch.nn.ReLU(),      \n",
    "            \n",
    "            torch.nn.Linear(128, 64),                  \n",
    "            torch.nn.BatchNorm1d(64), \n",
    "            torch.nn.ReLU(),\n",
    "            \n",
    "            torch.nn.Linear(64, y_size)\n",
    "        )\n",
    "    \n",
    "    def forward(self, x):\n",
    "        return self.sequental(x)"
   ]
  },
  {
   "cell_type": "code",
   "execution_count": 8,
   "id": "af0caa7a-fb96-4620-bcdf-22ca5be017ce",
   "metadata": {},
   "outputs": [
    {
     "name": "stdout",
     "output_type": "stream",
     "text": [
      "Model is on device: cuda:0\n"
     ]
    }
   ],
   "source": [
    "# Высление размера входного вектора\n",
    "# Для одной картинки из train_dataset:\n",
    "image_tensor, _ = train_dataset[0]  # получаем первый элемент датасета\n",
    "dimension = image_tensor.numel()    # 1*28*28 = 784\n",
    "X_size = dimension\n",
    "y_size = len(classes)\n",
    "\n",
    "# Нейронная сеть\n",
    "model = Network(\n",
    "    X_size,\n",
    "    y_size\n",
    ")\n",
    "\n",
    "model = model.to(device)\n",
    "print(f\"Model is on device: {next(model.parameters()).device}\")"
   ]
  },
  {
   "cell_type": "code",
   "execution_count": 9,
   "id": "efea9d50",
   "metadata": {},
   "outputs": [],
   "source": [
    "# Настройка гиперпараметров обучения\n",
    "num_epochs = 30\n",
    "optimizer = torch.optim.Adam(model.parameters(), lr=.0001, weight_decay=1e-3)\n",
    "criterion = torch.nn.CrossEntropyLoss()\n",
    "BATCH_SIZE=256"
   ]
  },
  {
   "cell_type": "markdown",
   "id": "90975c98-2829-460c-8c95-87cb1d07eabb",
   "metadata": {},
   "source": [
    "## Обучение"
   ]
  },
  {
   "cell_type": "raw",
   "id": "9fb9ab31-7394-4bdc-8e31-38b3198440aa",
   "metadata": {},
   "source": [
    "def train_model():\n",
    "    # Инииализация переменных для ранней остановки\n",
    "    best_val_loss = float('inf')\n",
    "    patience_counter = 0\n",
    "    patience = 3  # Количество эпох для ранней остановки\n",
    "\n",
    "    # Списки для хранения потерь при обучении и валидации\n",
    "    train_losses = []\n",
    "    val_losses = []\n",
    "    \n",
    "    for epoch in range(num_epochs):\n",
    "        train_iters, train_passed  = 0, 0\n",
    "        train_loss, train_acc = 0., 0.\n",
    "\n",
    "        # Режим обучения (активация слоев Dropout/BatchNorm)\n",
    "        model.train()\n",
    "        \n",
    "        # Итерация по батчам обучающих данных\n",
    "        for X, y in train:            \n",
    "            # ==================== ТРЕНИРОВОЧНЫЙ ЭТАП ====================\n",
    "            model.train()  # Активация режима обучения (Dropout/BatchNorm)\n",
    "            for X, y in train:\n",
    "                # Перенос данных на вычислительное устройство (GPU/CPU)\n",
    "                X, y = X.to(device), y.to(device)\n",
    "                \n",
    "                # Обнуление градиентов перед backward pass\n",
    "                optimizer.zero_grad()\n",
    "                \n",
    "                # Forward pass: вычисление предсказаний модели\n",
    "                y_pred = model(X)\n",
    "                \n",
    "                # Расчет функции потерь между предсказаниями и истинными значениями\n",
    "                loss = criterion(y_pred, y)\n",
    "                \n",
    "                # Backward pass: вычисление градиентов\n",
    "                loss.backward()\n",
    "                \n",
    "                # Оптимизация: обновление весов модели\n",
    "                optimizer.step()\n",
    "            \n",
    "            # ==================== ВАЛИДАЦИОННЫЙ ЭТАП ====================\n",
    "            model.eval()  # Переключение в режим инференса\n",
    "            val_loss = 0.0  # Инициализация аккумулятора потерь\n",
    "            \n",
    "            # Отключение расчета градиентов для экономии памяти\n",
    "            with torch.no_grad():\n",
    "                for X_val, y_val in val:\n",
    "                    # Перенос валидационных данных на устройство\n",
    "                    X_val, y_val = X_val.to(device), y_val.to(device)\n",
    "                    \n",
    "                    # Вычисление потерь на валидационном батче\n",
    "                    batch_loss = criterion(model(X_val), y_val)\n",
    "                    \n",
    "                    # Накопление суммарных потерь\n",
    "                    val_loss += batch_loss.item()\n",
    "            \n",
    "            # Расчет среднего значения потерь по всем батчам\n",
    "            val_loss /= len(val)\n",
    "\n",
    "        train_losses.append(loss.item())\n",
    "        val_losses.append(val_loss)\n",
    "\n",
    "        # Ранняя остановка\n",
    "        if val_loss < best_val_loss:\n",
    "            best_val_loss = val_loss\n",
    "            patience_counter = 0\n",
    "            torch.save(model.state_dict(), 'best_model.pth')  # Сохранение лучшей модели\n",
    "        else:\n",
    "            patience_counter += 1\n",
    "        \n",
    "        # Вывод статистики каждой эпохи\n",
    "        if (epoch + 1) % 1 == 0:\n",
    "            print(f'Epoch {epoch + 1}, Train Loss: {loss.item():.4f}, Val Loss: {val_loss:.4f}')\n",
    "        \n",
    "        if patience_counter >= patience and epoch+1 < num_epochs:\n",
    "            print(\"Early stopping!\")\n",
    "            break\n",
    "\n",
    "    # Загрузка лучших весов модели\n",
    "    model.load_state_dict(torch.load('best_model.pth'))\n",
    "\n",
    "    return train_losses, val_losses"
   ]
  },
  {
   "cell_type": "code",
   "execution_count": 10,
   "id": "fe615cd5-8ec6-4f23-b4d9-fd4b7fc8abc9",
   "metadata": {},
   "outputs": [],
   "source": [
    "def train_model():\n",
    "    # Инииализация переменных для ранней остановки\n",
    "    best_val_loss = float('inf')\n",
    "    patience_counter = 0\n",
    "    patience = 3  # Количество эпох для ранней остановки\n",
    "\n",
    "    # Списки для хранения потерь\n",
    "    train_losses = []\n",
    "    val_losses = []\n",
    "    \n",
    "    for epoch in range(num_epochs):\n",
    "        train_iters, train_passed  = 0, 0\n",
    "        train_loss, train_acc = 0., 0.\n",
    "        start=time.time()\n",
    "\n",
    "        # Обучение\n",
    "        model.train()\n",
    "        for X, y in train:\n",
    "            X, y = X.to(device), y.to(device)\n",
    "\n",
    "            optimizer.zero_grad()\n",
    "            y_pred = model(X)\n",
    "            loss = criterion(y_pred, y)\n",
    "            \n",
    "            loss.backward()\n",
    "            optimizer.step()\n",
    "\n",
    "        # Валидация\n",
    "        model.eval()  # Переключение в режим оценки\n",
    "        val_loss = 0\n",
    "        with torch.no_grad():  # Отключение вычисления градиентов\n",
    "            for X_val, y_val in val:\n",
    "                X_val, y_val = X_val.to(device), y_val.to(device)\n",
    "                val_l = criterion(model(X_val), y_val)\n",
    "                val_loss += val_l.item()\n",
    "        val_loss /= len(val)  # Нормализация по количеству батчей\n",
    "\n",
    "        train_losses.append(loss.item())\n",
    "        val_losses.append(val_loss)\n",
    "\n",
    "        # Ранняя остановка\n",
    "        if val_loss < best_val_loss:\n",
    "            best_val_loss = val_loss\n",
    "            patience_counter = 0\n",
    "            torch.save(model.state_dict(), 'best_model.pth')  # Сохранение лучшей модели\n",
    "        else:\n",
    "            patience_counter += 1\n",
    "        \n",
    "        # Вывод статистики каждой эпохи\n",
    "        if (epoch + 1) % 1 == 0:\n",
    "            print(f'Epoch {epoch + 1}, Train Loss: {loss.item():.4f}, Val Loss: {val_loss:.4f}')\n",
    "        \n",
    "        if patience_counter >= patience and epoch+1 < num_epochs:\n",
    "            print(\"Early stopping!\")\n",
    "            break\n",
    "\n",
    "    # Загрузка лучших весов модели\n",
    "    model.load_state_dict(torch.load('best_model.pth'))\n",
    "\n",
    "    return train_losses, val_losses"
   ]
  },
  {
   "cell_type": "code",
   "execution_count": 11,
   "id": "4249bc45-ddf2-4ed5-a76e-f6362764c3ab",
   "metadata": {},
   "outputs": [
    {
     "name": "stdout",
     "output_type": "stream",
     "text": [
      "Epoch 1, Train Loss: 1.2064, Val Loss: 1.1194\n",
      "Epoch 2, Train Loss: 0.8815, Val Loss: 0.7696\n",
      "Epoch 3, Train Loss: 0.7093, Val Loss: 0.6000\n",
      "Epoch 4, Train Loss: 0.5934, Val Loss: 0.5103\n",
      "Epoch 5, Train Loss: 0.5011, Val Loss: 0.4539\n",
      "Epoch 6, Train Loss: 0.3908, Val Loss: 0.4191\n",
      "Epoch 7, Train Loss: 0.4173, Val Loss: 0.4012\n",
      "Epoch 8, Train Loss: 0.3676, Val Loss: 0.3805\n",
      "Epoch 9, Train Loss: 0.3338, Val Loss: 0.3767\n",
      "Epoch 10, Train Loss: 0.3016, Val Loss: 0.3681\n",
      "Epoch 11, Train Loss: 0.3239, Val Loss: 0.3597\n",
      "Epoch 12, Train Loss: 0.2670, Val Loss: 0.3460\n",
      "Epoch 13, Train Loss: 0.3222, Val Loss: 0.3464\n",
      "Epoch 14, Train Loss: 0.2906, Val Loss: 0.3383\n",
      "Epoch 15, Train Loss: 0.2389, Val Loss: 0.3357\n",
      "Epoch 16, Train Loss: 0.2590, Val Loss: 0.3293\n",
      "Epoch 17, Train Loss: 0.2880, Val Loss: 0.3293\n",
      "Epoch 18, Train Loss: 0.2283, Val Loss: 0.3287\n",
      "Epoch 19, Train Loss: 0.2477, Val Loss: 0.3227\n",
      "Epoch 20, Train Loss: 0.2253, Val Loss: 0.3228\n",
      "Epoch 21, Train Loss: 0.1883, Val Loss: 0.3223\n",
      "Epoch 22, Train Loss: 0.1844, Val Loss: 0.3174\n",
      "Epoch 23, Train Loss: 0.1816, Val Loss: 0.3277\n",
      "Epoch 24, Train Loss: 0.2006, Val Loss: 0.3228\n",
      "Epoch 25, Train Loss: 0.2111, Val Loss: 0.3159\n",
      "Epoch 26, Train Loss: 0.1743, Val Loss: 0.3316\n",
      "Epoch 27, Train Loss: 0.1865, Val Loss: 0.3274\n",
      "Epoch 28, Train Loss: 0.1606, Val Loss: 0.3313\n",
      "Early stopping!\n"
     ]
    }
   ],
   "source": [
    "# Обучение\n",
    "train_losses, val_losses = train_model()"
   ]
  },
  {
   "cell_type": "code",
   "execution_count": 12,
   "id": "9341e6f6",
   "metadata": {},
   "outputs": [
    {
     "data": {
      "image/png": "[encoded data removed]",
      "text/plain": [
       "<Figure size 1000x500 with 1 Axes>"
      ]
     },
     "metadata": {},
     "output_type": "display_data"
    }
   ],
   "source": [
    "# График потерь\n",
    "plt.figure(figsize=(10, 5))\n",
    "plt.plot(train_losses, label='Train Loss')\n",
    "plt.plot(val_losses, label='Val Loss')\n",
    "plt.xlabel('Epoch')\n",
    "plt.ylabel('Loss')\n",
    "plt.legend()\n",
    "plt.show()"
   ]
  },
  {
   "cell_type": "code",
   "execution_count": 13,
   "id": "44cfd3b1",
   "metadata": {},
   "outputs": [
    {
     "name": "stdout",
     "output_type": "stream",
     "text": [
      "\n",
      "Image Info:\n",
      "- размер рисунка: torch.Size([1, 28, 28])\n",
      "- истина:         Сумка (8)\n",
      "- предсказание:   Сумка (8)\n",
      "- уверенность:    99.66%\n",
      "\n"
     ]
    },
    {
     "data": {
      "image/png": "[encoded data removed]",
      "text/plain": [
       "<Figure size 200x200 with 1 Axes>"
      ]
     },
     "metadata": {},
     "output_type": "display_data"
    }
   ],
   "source": [
    "# Выбираем случайную картинку из валидационного набора\n",
    "index = torch.randint(0, len(test_dataset), (1,)).item()\n",
    "image, true_label = test_dataset[index]\n",
    "image = image.unsqueeze(0).to(device)  # Добавляем batch dimension и переносим на устройство\n",
    "\n",
    "# Делаем предсказание\n",
    "model.eval()\n",
    "with torch.no_grad():\n",
    "    output = model(image)\n",
    "predicted_label = torch.argmax(output, dim=1).item()\n",
    "\n",
    "# Визуализация\n",
    "plt.figure(figsize=(2, 2))\n",
    "plt.imshow(image.cpu().squeeze().numpy(), cmap='gray' if image.shape[1] == 1 else None)\n",
    "# plt.title(f\"True: {classes[true_label]}\\nPredicted: {classes[predicted_label]}\", fontsize=12)\n",
    "plt.axis('off')\n",
    "\n",
    "# Добавляем описание\n",
    "description = f\"\"\"\n",
    "Image Info:\n",
    "- размер рисунка: {test_dataset[index][0].shape}\n",
    "- истина:         {classes[true_label]} ({true_label})\n",
    "- предсказание:   {classes[predicted_label]} ({predicted_label})\n",
    "- уверенность:    {torch.max(torch.softmax(output, dim=1)).item():.2%}\n",
    "\"\"\"\n",
    "\n",
    "print(description)\n",
    "plt.show()"
   ]
  },
  {
   "cell_type": "code",
   "execution_count": null,
   "id": "4a720bf6-61fd-4535-9849-eab9c38ab5c3",
   "metadata": {},
   "outputs": [],
   "source": []
  }
 ],
 "metadata": {
  "kernelspec": {
   "display_name": "Python [conda env:base] *",
   "language": "python",
   "name": "conda-base-py"
  },
  "language_info": {
   "codemirror_mode": {
    "name": "ipython",
    "version": 3
   },
   "file_extension": ".py",
   "mimetype": "text/x-python",
   "name": "python",
   "nbconvert_exporter": "python",
   "pygments_lexer": "ipython3",
   "version": "3.11.5"
  }
 },
 "nbformat": 4,
 "nbformat_minor": 5
}
