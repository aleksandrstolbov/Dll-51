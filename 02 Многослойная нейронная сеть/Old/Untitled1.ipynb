{
 "cells": [
  {
   "cell_type": "code",
   "execution_count": 1,
   "id": "a4a0c009-73fe-4d97-b665-927c8813f28c",
   "metadata": {},
   "outputs": [],
   "source": [
    "import torch"
   ]
  },
  {
   "cell_type": "code",
   "execution_count": 16,
   "id": "ef4fc075-6817-4d4f-8c7c-d8eb5b7d480a",
   "metadata": {},
   "outputs": [],
   "source": [
    "a = torch.tensor([0, 13, 16, 11])\n",
    "b = 12\n",
    "c = torch.tensor([b])\n",
    "d = torch.cat((a, c), -1)"
   ]
  },
  {
   "cell_type": "code",
   "execution_count": 17,
   "id": "108c39be-ac4c-4308-8d81-0df708c31423",
   "metadata": {},
   "outputs": [
    {
     "name": "stdout",
     "output_type": "stream",
     "text": [
      "tensor([ 0, 13, 16, 11]) tensor([12]) tensor([ 0, 13, 16, 11, 12])\n"
     ]
    }
   ],
   "source": [
    "print(a, c, d)"
   ]
  },
  {
   "cell_type": "code",
   "execution_count": null,
   "id": "1775a359-62c7-40ac-babc-d7283b1dc064",
   "metadata": {},
   "outputs": [],
   "source": []
  }
 ],
 "metadata": {
  "kernelspec": {
   "display_name": "Python 3 (ipykernel)",
   "language": "python",
   "name": "python3"
  },
  "language_info": {
   "codemirror_mode": {
    "name": "ipython",
    "version": 3
   },
   "file_extension": ".py",
   "mimetype": "text/x-python",
   "name": "python",
   "nbconvert_exporter": "python",
   "pygments_lexer": "ipython3",
   "version": "3.11.5"
  }
 },
 "nbformat": 4,
 "nbformat_minor": 5
}
