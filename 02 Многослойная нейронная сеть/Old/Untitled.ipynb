{
 "cells": [
  {
   "cell_type": "code",
   "execution_count": 10,
   "id": "8f623611",
   "metadata": {},
   "outputs": [],
   "source": [
    "import torch\n",
    "import torch.nn as nn\n",
    "import numpy as np"
   ]
  },
  {
   "cell_type": "code",
   "execution_count": 16,
   "id": "a1a5c1c9",
   "metadata": {},
   "outputs": [
    {
     "name": "stdout",
     "output_type": "stream",
     "text": [
      "tensor([[-0.7956,  1.5450],\n",
      "        [-1.4512, -1.3470],\n",
      "        [ 1.3305,  0.2729],\n",
      "        [ 0.1819, -1.4014],\n",
      "        [ 0.8114,  0.0384],\n",
      "        [-0.7201, -1.1310],\n",
      "        [ 1.3464,  0.3231],\n",
      "        [ 1.7133,  0.5410],\n",
      "        [ 0.3735, -2.0653],\n",
      "        [-1.4182,  0.7716],\n",
      "        [-1.3696,  0.3221],\n",
      "        [-0.4709, -1.6283]])\n",
      "tensor([[-0.2745,  0.3851,  1.5139, -0.1267],\n",
      "        [-0.6980,  1.5208,  0.5700,  0.8257],\n",
      "        [ 1.2351, -0.3120,  0.4372, -1.3154],\n",
      "        [ 0.4498,  0.7266,  0.1015, -0.2520],\n",
      "        [ 0.8735,  0.0110,  0.4883, -0.9279],\n",
      "        [-0.1872,  1.0978,  0.4537,  0.3003],\n",
      "        [ 1.2456, -0.3340,  0.4524, -1.3350],\n",
      "        [ 1.5005, -0.5769,  0.4365, -1.6181],\n",
      "        [ 0.5929,  0.8177, -0.2089, -0.2612],\n",
      "        [-0.7019,  0.9105,  1.3841,  0.4258],\n",
      "        [-0.6620,  1.0124,  1.1961,  0.4736],\n",
      "        [-0.0058,  1.1137,  0.1922,  0.2231]], grad_fn=<AddmmBackward0>)\n",
      "torch.Size([12, 4])\n"
     ]
    }
   ],
   "source": [
    "m = nn.Linear(2, 4)\n",
    "input = torch.randn(12, 2)\n",
    "print(input)\n",
    "\n",
    "output = m(input)\n",
    "print(output)\n",
    "\n",
    "print(output.size())\n"
   ]
  },
  {
   "cell_type": "code",
   "execution_count": null,
   "id": "4a04defb",
   "metadata": {},
   "outputs": [],
   "source": []
  }
 ],
 "metadata": {
  "kernelspec": {
   "display_name": "Python 3 (ipykernel)",
   "language": "python",
   "name": "python3"
  },
  "language_info": {
   "codemirror_mode": {
    "name": "ipython",
    "version": 3
   },
   "file_extension": ".py",
   "mimetype": "text/x-python",
   "name": "python",
   "nbconvert_exporter": "python",
   "pygments_lexer": "ipython3",
   "version": "3.10.11"
  }
 },
 "nbformat": 4,
 "nbformat_minor": 5
}
