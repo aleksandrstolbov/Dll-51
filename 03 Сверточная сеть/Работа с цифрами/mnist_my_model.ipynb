{
 "cells": [
  {
   "cell_type": "code",
   "execution_count": 1,
   "metadata": {
    "id": "qFVX9R9Fr2Z8"
   },
   "outputs": [],
   "source": [
    "import matplotlib.pyplot as plt\n",
    "from torchvision import datasets, transforms\n",
    "import torchvision\n",
    "import torch\n",
    "import torch.nn as nn\n",
    "import torch.optim as optim\n",
    "from torch.utils.data import DataLoader, random_split\n",
    "import torch.nn.functional as F\n",
    "import numpy as np\n",
    "import copy\n",
    "from PIL import Image"
   ]
  },
  {
   "cell_type": "markdown",
   "metadata": {},
   "source": [
    "## Модель"
   ]
  },
  {
   "cell_type": "code",
   "execution_count": 3,
   "metadata": {
    "colab": {
     "base_uri": "https://localhost:8080/",
     "height": 452
    },
    "id": "JKGMA-ZWx6oo",
    "outputId": "a7e183c4-6d2c-4289-d32d-ee68c263a3f3"
   },
   "outputs": [],
   "source": [
    "# model = torch.nn.Sequential(\n",
    "#     torch.nn.Conv2d(1, 32, kernel_size = 3, padding = 1, padding_mode = 'replicate'),\n",
    "#     torch.nn.MaxPool2d(kernel_size=2),\n",
    "#     torch.nn.ReLU(),\n",
    "#     torch.nn.Conv2d(32, 64, kernel_size = 3, padding = 1, padding_mode = 'replicate'),\n",
    "#     torch.nn.MaxPool2d(kernel_size=2),\n",
    "#     torch.nn.ReLU(),\n",
    "#     torch.nn.Conv2d(64, 128, kernel_size = 3, padding = 1, padding_mode = 'replicate'),\n",
    "#     torch.nn.MaxPool2d(kernel_size=2),\n",
    "#     torch.nn.ReLU(),\n",
    "#     torch.nn.Flatten(),\n",
    "#     torch.nn.Dropout(0.2),\n",
    "#     torch.nn.Linear(1152, 10)\n",
    "#     )"
   ]
  },
  {
   "cell_type": "code",
   "execution_count": 4,
   "metadata": {},
   "outputs": [],
   "source": [
    "model = nn.Sequential(\n",
    "    nn.Conv2d(1, 6, kernel_size=3, padding=1),\n",
    "    nn.Tanh(),\n",
    "    nn.AvgPool2d(2, stride=1),\n",
    "\n",
    "    nn.Conv2d(6, 32, kernel_size=3),\n",
    "    nn.Tanh(),\n",
    "    nn.AvgPool2d(2, stride=2),\n",
    "    \n",
    "    nn.Conv2d(32, 64, kernel_size=3),\n",
    "    nn.Tanh(),\n",
    "    nn.AvgPool2d(2, stride=2),\n",
    "    \n",
    "    nn.Conv2d(64, 128, kernel_size=5),\n",
    "    nn.Tanh(),\n",
    "    \n",
    "    nn.Flatten(),\n",
    "    \n",
    "    nn.Linear(128, 64),\n",
    "    #torch.nn.Dropout(p=0.5), \n",
    "    nn.Tanh(),\n",
    "    \n",
    "    nn.Linear(64, 10)\n",
    ")\n",
    "\n",
    "# model = model.to(device)\n",
    "# from torchsummary import summary\n",
    "\n",
    "# summary(model, input_size=(1, 28, 28))"
   ]
  },
  {
   "cell_type": "code",
   "execution_count": 5,
   "metadata": {
    "colab": {
     "base_uri": "https://localhost:8080/",
     "height": 452
    },
    "id": "JKGMA-ZWx6oo",
    "outputId": "a7e183c4-6d2c-4289-d32d-ee68c263a3f3"
   },
   "outputs": [
    {
     "name": "stdout",
     "output_type": "stream",
     "text": [
      "Model is on device: cuda:0\n"
     ]
    }
   ],
   "source": [
    "device = 'cuda' if torch.cuda.is_available() else 'cpu'\n",
    "model = model.to(device)\n",
    "print(f\"Model is on device: {next(model.parameters()).device}\")"
   ]
  },
  {
   "cell_type": "markdown",
   "metadata": {},
   "source": [
    "## "
   ]
  },
  {
   "cell_type": "code",
   "execution_count": 7,
   "metadata": {
    "colab": {
     "base_uri": "https://localhost:8080/"
    },
    "id": "7CG7upsCr8XY",
    "outputId": "51b5da8d-1249-42f5-bd63-af5061b380c8"
   },
   "outputs": [],
   "source": [
    "transform = transforms.Compose([transforms.ToTensor()])\n",
    "data_train = datasets.MNIST('./data', \n",
    "                            train = True,\n",
    "                            download = True,\n",
    "                            transform = transform\n",
    "                           )\n",
    "data_test = datasets.MNIST('./data',\n",
    "                           train = False,\n",
    "                           download = False, \n",
    "                           transform = transform\n",
    "                          )"
   ]
  },
  {
   "cell_type": "code",
   "execution_count": 8,
   "metadata": {
    "id": "62MsZr0bxpJu"
   },
   "outputs": [],
   "source": [
    "traindata = DataLoader(data_train, batch_size = 100, shuffle = True)\n",
    "testdata = DataLoader(data_test, batch_size = 100, shuffle = True)"
   ]
  },
  {
   "cell_type": "code",
   "execution_count": 9,
   "metadata": {
    "id": "93LAqbw1xrPq"
   },
   "outputs": [],
   "source": [
    "dataiter = iter(traindata)\n",
    "data = next(dataiter)\n",
    "features, labels = data"
   ]
  },
  {
   "cell_type": "code",
   "execution_count": 10,
   "metadata": {
    "colab": {
     "base_uri": "https://localhost:8080/"
    },
    "id": "Qo9XHT1wyaV1",
    "outputId": "be25cb83-01d1-4563-fbd0-a3a47226aa74"
   },
   "outputs": [
    {
     "name": "stdout",
     "output_type": "stream",
     "text": [
      "epoch 5, loss: 0.043093\n",
      "epoch 10, loss: 0.022330\n",
      "epoch 15, loss: 0.016157\n",
      "epoch 20, loss: 0.010238\n",
      "epoch 25, loss: 0.009722\n",
      "epoch 30, loss: 0.011372\n",
      "epoch 35, loss: 0.008935\n",
      "epoch 40, loss: 0.005393\n",
      "epoch 45, loss: 0.007095\n",
      "epoch 50, loss: 0.007828\n"
     ]
    }
   ],
   "source": [
    "# Обучение\n",
    "num_epochs = 50\n",
    "loss = torch.nn.CrossEntropyLoss()\n",
    "trainer = torch.optim.Adam(model.parameters(), lr=0.001)\n",
    "for epoch in range(1, num_epochs + 1):\n",
    "    losses_per_epoch = []\n",
    "    for X, y in traindata:\n",
    "        X, y = X.to(device), y.to(device)\n",
    "        trainer.zero_grad()\n",
    "        l = loss(model(X), y)\n",
    "        losses_per_epoch.append(l.item())\n",
    "        l.backward()\n",
    "        trainer.step()\n",
    "    if epoch % 5 == 0:\n",
    "        print('epoch %d, loss: %f' % (epoch, np.mean(losses_per_epoch)))"
   ]
  },
  {
   "cell_type": "code",
   "execution_count": 11,
   "metadata": {},
   "outputs": [],
   "source": [
    "# Тестирование модели\n",
    "y_pred = []\n",
    "y_true = []\n",
    "for X, y in testdata:\n",
    "    X, y = X.to(device), y.to(device)\n",
    "    y_pred_iter = model(X)\n",
    "    y_pred.extend(y_pred_iter.detach())\n",
    "    y_true.extend(y.detach())\n",
    "\n",
    "y_pred = torch.Tensor([torch.argmax(x) for x in y_pred])\n",
    "y_true = torch.Tensor(y_true)"
   ]
  },
  {
   "cell_type": "code",
   "execution_count": 12,
   "metadata": {
    "colab": {
     "base_uri": "https://localhost:8080/"
    },
    "id": "2mVPmVc7zj7I",
    "outputId": "639bbb65-e481-48d0-d999-37bc53644652"
   },
   "outputs": [
    {
     "name": "stdout",
     "output_type": "stream",
     "text": [
      "Точность на тестовой выборке: 0.9888\n"
     ]
    }
   ],
   "source": [
    "from sklearn.metrics import accuracy_score\n",
    "print('Точность на тестовой выборке:', accuracy_score(y_true, y_pred))"
   ]
  },
  {
   "cell_type": "code",
   "execution_count": 13,
   "metadata": {},
   "outputs": [],
   "source": [
    "# Замораживаем все слои\n",
    "for param in model.parameters():\n",
    "    param.requires_grad = False"
   ]
  },
  {
   "cell_type": "markdown",
   "metadata": {},
   "source": [
    "## Сохранение модели"
   ]
  },
  {
   "cell_type": "raw",
   "metadata": {},
   "source": [
    "# сохранить обученную модель\n",
    "torch.save(model.state_dict(), 'mnist_model.pth')"
   ]
  },
  {
   "cell_type": "markdown",
   "metadata": {},
   "source": [
    "## Загрузка модели"
   ]
  },
  {
   "cell_type": "raw",
   "metadata": {
    "colab": {
     "base_uri": "https://localhost:8080/"
    },
    "id": "2gD1DsDux9C9",
    "outputId": "8d05623e-4a59-4788-fcdc-31d36d64b708"
   },
   "source": [
    "# Загрузить модель\n",
    "model.load_state_dict(torch.load('mnist_model.pth'))"
   ]
  },
  {
   "cell_type": "markdown",
   "metadata": {},
   "source": [
    "# Предсказание"
   ]
  },
  {
   "cell_type": "code",
   "execution_count": 55,
   "metadata": {
    "colab": {
     "base_uri": "https://localhost:8080/",
     "height": 452
    },
    "id": "JKGMA-ZWx6oo",
    "outputId": "a7e183c4-6d2c-4289-d32d-ee68c263a3f3"
   },
   "outputs": [
    {
     "data": {
      "image/png": "[encoded data removed]",
      "text/plain": [
       "<Figure size 640x480 with 1 Axes>"
      ]
     },
     "metadata": {},
     "output_type": "display_data"
    },
    {
     "name": "stdout",
     "output_type": "stream",
     "text": [
      "Предсказание. На избражении цифра 2\n",
      "Выходы сети:\n",
      "Цифра\tВес\tВерояность\n",
      "0\t-2.11\t0.0%\n",
      "1\t1.17\t0.0%\n",
      "2\t21.56\t100.0%\n",
      "3\t-2.84\t0.0%\n",
      "4\t-1.87\t0.0%\n",
      "5\t-10.02\t0.0%\n",
      "6\t-0.83\t0.0%\n",
      "7\t-4.46\t0.0%\n",
      "8\t2.44\t0.0%\n",
      "9\t-2.38\t0.0%\n"
     ]
    }
   ],
   "source": [
    "# Загрузка изображения и преобразование в тензор\n",
    "img = Image.open(\"digits/2_600i.jpg\")\n",
    "# Преобразование в Grayscale\n",
    "transform = transforms.Compose([\n",
    "    transforms.Resize((28, 28)),\n",
    "    transforms.Grayscale(num_output_channels=1),  # Конвертация в 1 канал\n",
    "    transforms.ToTensor()\n",
    "])\n",
    "tensor_img = transform(img)  # Теперь размер [1, 28, 28]\n",
    "# one = torch.ones_like(tensor_img)\n",
    "# tensor_img = torch.where(tensor_img > 0.5, one, tensor_img)\n",
    "\n",
    "# Предсказание\n",
    "x_pred = tensor_img.unsqueeze(dim=1).clone().to(device)\n",
    "\n",
    "# one = torch.ones_like(x_pred)\n",
    "# print(one)\n",
    "# x_pred = torch.where(x_pred > 0.1, one, x_pred)\n",
    "# print(x_pred)\n",
    "y_pred = model(x_pred)\n",
    "y = torch.argmax(y_pred).item()\n",
    "\n",
    "# вывести картинку и результат\n",
    "plt.imshow(torch.squeeze(tensor_img), cmap='gray')  # squeeze убирает размерность канала\n",
    "# plt.title(img.filename + ';\\nПредсказание: ' + str(y))\n",
    "plt.show()\n",
    "\n",
    "print(f\"Предсказание. На избражении цифра {str(y)}\")\n",
    "# Применяем softmax для получения вероятностей\n",
    "probabilities = F.softmax(y_pred, dim=1)\n",
    "# Преобразуем в проценты и округляем\n",
    "percentages = torch.squeeze((probabilities * 100).round())\n",
    "print(\"Выходы сети:\")\n",
    "print(\"Цифра\\tВес\\tВерояность\")\n",
    "for i in range(10):   \n",
    "    print(f\"{i}\\t{torch.squeeze(y_pred)[i].item():.2f}\\t{percentages[i].item()}%\")\n"
   ]
  },
  {
   "cell_type": "code",
   "execution_count": null,
   "metadata": {},
   "outputs": [],
   "source": []
  }
 ],
 "metadata": {
  "accelerator": "GPU",
  "colab": {
   "gpuType": "T4",
   "provenance": []
  },
  "kernelspec": {
   "display_name": "Python 3 (ipykernel)",
   "language": "python",
   "name": "python3"
  },
  "language_info": {
   "codemirror_mode": {
    "name": "ipython",
    "version": 3
   },
   "file_extension": ".py",
   "mimetype": "text/x-python",
   "name": "python",
   "nbconvert_exporter": "python",
   "pygments_lexer": "ipython3",
   "version": "3.11.10"
  }
 },
 "nbformat": 4,
 "nbformat_minor": 4
}
