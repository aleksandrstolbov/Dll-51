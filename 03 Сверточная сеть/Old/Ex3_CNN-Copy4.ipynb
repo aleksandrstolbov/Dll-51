{
 "cells": [
  {
   "cell_type": "code",
   "execution_count": 1,
   "id": "0024fa81",
   "metadata": {},
   "outputs": [],
   "source": [
    "import matplotlib.pyplot as plt\n",
    "%matplotlib inline"
   ]
  },
  {
   "cell_type": "code",
   "execution_count": 2,
   "id": "e90ee9d2",
   "metadata": {},
   "outputs": [],
   "source": [
    "import os\n",
    "os.environ['KMP_DUPLICATE_LIB_OK'] = 'True'"
   ]
  },
  {
   "cell_type": "code",
   "execution_count": 3,
   "id": "2eba5a15",
   "metadata": {},
   "outputs": [],
   "source": [
    "import torch\n",
    "from torch import nn"
   ]
  },
  {
   "cell_type": "code",
   "execution_count": 4,
   "id": "0aa37a05",
   "metadata": {},
   "outputs": [],
   "source": [
    "import numpy as np"
   ]
  },
  {
   "cell_type": "code",
   "execution_count": 5,
   "id": "a200a810",
   "metadata": {},
   "outputs": [],
   "source": [
    "import torchvision as tv"
   ]
  },
  {
   "cell_type": "code",
   "execution_count": 6,
   "id": "82deab8f",
   "metadata": {
    "id": "-UsgWaRFczpO"
   },
   "outputs": [],
   "source": [
    "import pandas as pd\n",
    "import numpy as np"
   ]
  },
  {
   "cell_type": "code",
   "execution_count": 7,
   "id": "5593a220",
   "metadata": {
    "id": "Nd6TznshmPZp"
   },
   "outputs": [],
   "source": [
    "import time"
   ]
  },
  {
   "cell_type": "code",
   "execution_count": 8,
   "id": "b5667c8c",
   "metadata": {},
   "outputs": [],
   "source": [
    "device = 'cuda' if torch.cuda.is_available() else 'cpu'"
   ]
  },
  {
   "cell_type": "code",
   "execution_count": 9,
   "id": "87ef357f",
   "metadata": {},
   "outputs": [
    {
     "name": "stdout",
     "output_type": "stream",
     "text": [
      "cuda\n"
     ]
    }
   ],
   "source": [
    "print(device)"
   ]
  },
  {
   "cell_type": "code",
   "execution_count": 10,
   "id": "e6eee95b",
   "metadata": {
    "id": "qb_NW7cVmPZs"
   },
   "outputs": [],
   "source": [
    "BATCH_SIZE=256"
   ]
  },
  {
   "cell_type": "code",
   "execution_count": 11,
   "id": "2ef7f558",
   "metadata": {
    "colab": {
     "base_uri": "https://localhost:8080/"
    },
    "id": "Kw5Kv2i6mPZu",
    "outputId": "abec58e9-6ac4-4622-af32-8d4ddc849f3d",
    "scrolled": true
   },
   "outputs": [],
   "source": [
    "train_dataset = tv.datasets.FashionMNIST('.', train=True, transform=tv.transforms.ToTensor(), download=True)\n",
    "test_dataset = tv.datasets.FashionMNIST('.', train=False, transform=tv.transforms.ToTensor(), download=True)\n",
    "train = torch.utils.data.DataLoader(train_dataset, batch_size=BATCH_SIZE)\n",
    "test = torch.utils.data.DataLoader(test_dataset, batch_size=BATCH_SIZE)"
   ]
  },
  {
   "cell_type": "code",
   "execution_count": 12,
   "id": "0cf4ee28",
   "metadata": {},
   "outputs": [],
   "source": [
    "train_iter = torch.utils.data.DataLoader(train_dataset, batch_size=BATCH_SIZE)\n",
    "test_iter = torch.utils.data.DataLoader(test_dataset, batch_size=BATCH_SIZE)"
   ]
  },
  {
   "cell_type": "code",
   "execution_count": 13,
   "id": "fe150a80",
   "metadata": {},
   "outputs": [
    {
     "data": {
      "text/plain": [
       "torch.Size([1, 28, 28])"
      ]
     },
     "execution_count": 13,
     "metadata": {},
     "output_type": "execute_result"
    }
   ],
   "source": [
    "train_dataset[0][0].shape"
   ]
  },
  {
   "cell_type": "code",
   "execution_count": 14,
   "id": "23d6f310",
   "metadata": {},
   "outputs": [
    {
     "data": {
      "image/png": "[encoded data removed]",
      "text/plain": [
       "<Figure size 640x480 with 1 Axes>"
      ]
     },
     "metadata": {},
     "output_type": "display_data"
    }
   ],
   "source": [
    "plt.imshow(train_dataset[0][0].numpy().reshape(28,28), cmap='gray');"
   ]
  },
  {
   "cell_type": "markdown",
   "id": "ccc94700",
   "metadata": {
    "id": "-LcgNXwOmPZ5"
   },
   "source": [
    "## Модель"
   ]
  },
  {
   "cell_type": "code",
   "execution_count": 15,
   "id": "35e109b0",
   "metadata": {},
   "outputs": [
    {
     "name": "stdout",
     "output_type": "stream",
     "text": [
      "----------------------------------------------------------------\n",
      "        Layer (type)               Output Shape         Param #\n",
      "================================================================\n",
      "            Conv2d-1            [-1, 6, 28, 28]              60\n",
      "              Tanh-2            [-1, 6, 28, 28]               0\n",
      "         AvgPool2d-3            [-1, 6, 27, 27]               0\n",
      "            Conv2d-4           [-1, 32, 25, 25]           1,760\n",
      "              Tanh-5           [-1, 32, 25, 25]               0\n",
      "         AvgPool2d-6           [-1, 32, 12, 12]               0\n",
      "            Conv2d-7           [-1, 64, 10, 10]          18,496\n",
      "              Tanh-8           [-1, 64, 10, 10]               0\n",
      "         AvgPool2d-9             [-1, 64, 5, 5]               0\n",
      "           Conv2d-10            [-1, 128, 1, 1]         204,928\n",
      "             Tanh-11            [-1, 128, 1, 1]               0\n",
      "          Flatten-12                  [-1, 128]               0\n",
      "           Linear-13                   [-1, 64]           8,256\n",
      "          Dropout-14                   [-1, 64]               0\n",
      "             Tanh-15                   [-1, 64]               0\n",
      "           Linear-16                   [-1, 10]             650\n",
      "================================================================\n",
      "Total params: 234,150\n",
      "Trainable params: 234,150\n",
      "Non-trainable params: 0\n",
      "----------------------------------------------------------------\n",
      "Input size (MB): 0.00\n",
      "Forward/backward pass size (MB): 0.56\n",
      "Params size (MB): 0.89\n",
      "Estimated Total Size (MB): 1.46\n",
      "----------------------------------------------------------------\n"
     ]
    }
   ],
   "source": [
    "model = nn.Sequential(\n",
    "    nn.Conv2d(1, 6, kernel_size=3, padding=1),\n",
    "    nn.Tanh(),\n",
    "    nn.AvgPool2d(2, stride=1),\n",
    "\n",
    "    nn.Conv2d(6, 32, kernel_size=3),\n",
    "    nn.Tanh(),\n",
    "    nn.AvgPool2d(2, stride=2),\n",
    "    \n",
    "    nn.Conv2d(32, 64, kernel_size=3),\n",
    "    nn.Tanh(),\n",
    "    nn.AvgPool2d(2, stride=2),\n",
    "    \n",
    "    nn.Conv2d(64, 128, kernel_size=5),\n",
    "    nn.Tanh(),\n",
    "    \n",
    "    nn.Flatten(),\n",
    "    \n",
    "    nn.Linear(128, 64),\n",
    "    torch.nn.Dropout(p=0.5), \n",
    "    nn.Tanh(),\n",
    "    \n",
    "    nn.Linear(64, 10)\n",
    ")\n",
    "\n",
    "model = model.to(device)\n",
    "from torchsummary import summary\n",
    "\n",
    "summary(model, input_size=(1, 28, 28))"
   ]
  },
  {
   "cell_type": "markdown",
   "id": "e5f77701",
   "metadata": {},
   "source": [
    "model = nn.Sequential(\n",
    "    nn.Conv2d(1, 6, kernel_size=4, padding=1),\n",
    "    nn.Tanh(),\n",
    "    nn.AvgPool2d(3, stride=1),\n",
    "    \n",
    "    nn.Conv2d(6, 32, kernel_size=4),\n",
    "    nn.Tanh(),\n",
    "    nn.AvgPool2d(2, stride=2),\n",
    "    \n",
    "    \n",
    "    nn.Conv2d(32, 512, kernel_size=4),\n",
    "    nn.Tanh(),\n",
    "    \n",
    "    nn.Flatten(),\n",
    "    \n",
    "    nn.Linear(512, 64),\n",
    "    #torch.nn.Dropout(p=0.5), \n",
    "    nn.Tanh(),\n",
    "    \n",
    "    nn.Linear(64, 10)\n",
    ")\n",
    "\n",
    "model = model.to(device)\n",
    "print(f\"Model is on device: {next(model.parameters()).device}\")"
   ]
  },
  {
   "cell_type": "markdown",
   "id": "7505f9b9",
   "metadata": {},
   "source": [
    "from torchsummary import summary\n",
    "\n",
    "summary(model, input_size=(1, 28, 28))"
   ]
  },
  {
   "cell_type": "code",
   "execution_count": 16,
   "id": "faf297be",
   "metadata": {},
   "outputs": [],
   "source": [
    "lr, num_epochs = 0.5, 100"
   ]
  },
  {
   "cell_type": "code",
   "execution_count": 17,
   "id": "0aa9f7f6",
   "metadata": {},
   "outputs": [],
   "source": [
    "def train(net, train_iter, test_iter, optimizer, num_epochs, device):\n",
    "    loss = nn.CrossEntropyLoss()\n",
    "\n",
    "    train_acc_graph = torch.zeros(num_epochs,2)\n",
    "    test_acc_graph = torch.zeros(num_epochs,2)\n",
    "    ep = 0\n",
    "        \n",
    "    for epoch in range(num_epochs):\n",
    "        train_l_sum, train_acc_sum, n, start = 0.0, 0.0, 0, time.time()        \n",
    "    \n",
    "        for X, y in train_iter:\n",
    "            X, y = X.to(device), y.to(device)\n",
    "            optimizer.zero_grad()\n",
    "            y_hat = net(X)\n",
    "            l = loss(y_hat, y)\n",
    "            l.backward()\n",
    "            optimizer.step()\n",
    "            train_l_sum += l.item()\n",
    "            train_acc_sum += (y_hat.argmax(axis=1) == y).sum().item()\n",
    "            n += y.shape[0]\n",
    "    \n",
    "        test_acc = evaluate_accuracy(test_iter, net, device)\n",
    "                \n",
    "        print(f'epoch {epoch + 1}, loss {train_l_sum / n:.4f}, train acc {train_acc_sum / n:.3f}' \\\n",
    "              f', test acc {test_acc:.3f}, time {time.time() - start:.1f} sec')\n",
    "        \n",
    "        train_acc_graph[ep, 0] = ep\n",
    "        train_acc_graph[ep, 1] = train_acc_sum / n\n",
    "        test_acc_graph[ep, 0] = ep\n",
    "        test_acc_graph[ep, 1] = test_acc\n",
    "        ep += 1\n",
    "        \n",
    "    plt.figure(figsize=(10, 5))\n",
    "\n",
    "    plt.subplot(1,2,1)\n",
    "    plt.title('Train_acc')\n",
    "    #g1.set_xlabel('CRIM')\n",
    "    plt.scatter(train_acc_graph[:, 0], train_acc_graph[:, 1])\n",
    "    plt.plot(train_acc_graph[:, 0], train_acc_graph[:, 1])\n",
    "\n",
    "    plt.subplot(1,2,2)\n",
    "    plt.title('Test_acc')\n",
    "    #g1.set_xlabel('CRIM')\n",
    "    plt.scatter(test_acc_graph[:, 0], test_acc_graph[:, 1])\n",
    "    plt.plot(test_acc_graph[:, 0], test_acc_graph[:, 1])"
   ]
  },
  {
   "cell_type": "markdown",
   "id": "68e90e96",
   "metadata": {},
   "source": [
    "\n",
    "train_acc_graph = torch.randn(num_epochs, 2)\n",
    "test_acc_graph = torch.randn(num_epochs, 2)\n",
    "\n",
    "plt.figure(figsize=(10, 5))\n",
    "\n",
    "plt.subplot(1,2,1)\n",
    "plt.title('Train_acc')\n",
    "#g1.set_xlabel('CRIM')\n",
    "plt.scatter(train_acc_graph[:, 1], train_acc_graph[:, 0])\n",
    "plt.plot(train_acc_graph[:, 1], train_acc_graph[:, 0])\n",
    "\n",
    "plt.subplot(1,2,2)\n",
    "plt.title('Test_acc')\n",
    "#g1.set_xlabel('CRIM')\n",
    "plt.scatter(test_acc_graph[:, 1], test_acc_graph[:, 0])\n",
    "plt.plot(test_acc_graph[:, 1], test_acc_graph[:, 0])"
   ]
  },
  {
   "cell_type": "code",
   "execution_count": 18,
   "id": "71bf0546",
   "metadata": {},
   "outputs": [],
   "source": [
    "def evaluate_accuracy(data_iter, net, device):\n",
    "    acc_sum, n = torch.Tensor([0]).to(device), 0\n",
    "    for X, y in data_iter:\n",
    "        X, y = X.to(device), y.to(device)\n",
    "        acc_sum += (net(X).argmax(axis=1) == y).sum()\n",
    "        n += y.shape[0]\n",
    "    return acc_sum.item() / n"
   ]
  },
  {
   "cell_type": "code",
   "execution_count": 19,
   "id": "9341e6f6",
   "metadata": {},
   "outputs": [
    {
     "name": "stdout",
     "output_type": "stream",
     "text": [
      "epoch 1, loss 0.0034, train acc 0.679, test acc 0.769, time 22.3 sec\n",
      "epoch 2, loss 0.0021, train acc 0.800, test acc 0.799, time 21.7 sec\n",
      "epoch 3, loss 0.0019, train acc 0.829, test acc 0.825, time 24.0 sec\n",
      "epoch 4, loss 0.0017, train acc 0.847, test acc 0.837, time 23.1 sec\n",
      "epoch 5, loss 0.0016, train acc 0.856, test acc 0.856, time 22.0 sec\n",
      "epoch 6, loss 0.0015, train acc 0.865, test acc 0.848, time 22.5 sec\n",
      "epoch 7, loss 0.0014, train acc 0.872, test acc 0.864, time 22.2 sec\n",
      "epoch 8, loss 0.0014, train acc 0.877, test acc 0.870, time 22.9 sec\n",
      "epoch 9, loss 0.0013, train acc 0.885, test acc 0.865, time 22.5 sec\n",
      "epoch 10, loss 0.0012, train acc 0.888, test acc 0.870, time 23.1 sec\n",
      "epoch 11, loss 0.0012, train acc 0.894, test acc 0.874, time 22.8 sec\n",
      "epoch 12, loss 0.0011, train acc 0.899, test acc 0.864, time 22.3 sec\n",
      "epoch 13, loss 0.0011, train acc 0.901, test acc 0.883, time 22.8 sec\n",
      "epoch 14, loss 0.0011, train acc 0.905, test acc 0.871, time 22.6 sec\n",
      "epoch 15, loss 0.0010, train acc 0.908, test acc 0.883, time 23.1 sec\n",
      "epoch 16, loss 0.0010, train acc 0.912, test acc 0.882, time 22.9 sec\n",
      "epoch 17, loss 0.0010, train acc 0.917, test acc 0.885, time 23.1 sec\n",
      "epoch 18, loss 0.0009, train acc 0.918, test acc 0.888, time 22.5 sec\n",
      "epoch 19, loss 0.0009, train acc 0.921, test acc 0.869, time 22.7 sec\n",
      "epoch 20, loss 0.0009, train acc 0.924, test acc 0.887, time 22.6 sec\n",
      "epoch 21, loss 0.0008, train acc 0.927, test acc 0.887, time 22.7 sec\n",
      "epoch 22, loss 0.0008, train acc 0.929, test acc 0.894, time 22.7 sec\n",
      "epoch 23, loss 0.0008, train acc 0.933, test acc 0.889, time 22.7 sec\n",
      "epoch 24, loss 0.0008, train acc 0.934, test acc 0.893, time 22.7 sec\n",
      "epoch 25, loss 0.0007, train acc 0.937, test acc 0.889, time 22.7 sec\n",
      "epoch 26, loss 0.0007, train acc 0.938, test acc 0.892, time 23.3 sec\n",
      "epoch 27, loss 0.0007, train acc 0.941, test acc 0.897, time 22.8 sec\n",
      "epoch 28, loss 0.0006, train acc 0.945, test acc 0.894, time 22.6 sec\n",
      "epoch 29, loss 0.0006, train acc 0.948, test acc 0.888, time 22.9 sec\n",
      "epoch 30, loss 0.0006, train acc 0.947, test acc 0.888, time 23.0 sec\n",
      "epoch 31, loss 0.0006, train acc 0.949, test acc 0.889, time 22.6 sec\n",
      "epoch 32, loss 0.0006, train acc 0.954, test acc 0.895, time 22.6 sec\n",
      "epoch 33, loss 0.0005, train acc 0.955, test acc 0.889, time 22.1 sec\n",
      "epoch 34, loss 0.0005, train acc 0.957, test acc 0.894, time 22.7 sec\n",
      "epoch 35, loss 0.0005, train acc 0.957, test acc 0.895, time 22.5 sec\n",
      "epoch 36, loss 0.0005, train acc 0.959, test acc 0.894, time 22.6 sec\n",
      "epoch 37, loss 0.0005, train acc 0.962, test acc 0.895, time 22.7 sec\n",
      "epoch 38, loss 0.0004, train acc 0.963, test acc 0.892, time 22.5 sec\n",
      "epoch 39, loss 0.0004, train acc 0.965, test acc 0.891, time 22.4 sec\n",
      "epoch 40, loss 0.0004, train acc 0.966, test acc 0.893, time 22.9 sec\n",
      "epoch 41, loss 0.0004, train acc 0.969, test acc 0.893, time 23.0 sec\n",
      "epoch 42, loss 0.0004, train acc 0.969, test acc 0.891, time 23.0 sec\n",
      "epoch 43, loss 0.0004, train acc 0.969, test acc 0.888, time 22.3 sec\n",
      "epoch 44, loss 0.0004, train acc 0.970, test acc 0.892, time 22.7 sec\n",
      "epoch 45, loss 0.0004, train acc 0.971, test acc 0.894, time 22.8 sec\n",
      "epoch 46, loss 0.0003, train acc 0.974, test acc 0.889, time 22.7 sec\n",
      "epoch 47, loss 0.0003, train acc 0.972, test acc 0.891, time 22.3 sec\n",
      "epoch 48, loss 0.0003, train acc 0.974, test acc 0.889, time 23.0 sec\n",
      "epoch 49, loss 0.0003, train acc 0.975, test acc 0.890, time 22.8 sec\n",
      "epoch 50, loss 0.0003, train acc 0.975, test acc 0.898, time 22.5 sec\n",
      "epoch 51, loss 0.0003, train acc 0.977, test acc 0.892, time 23.0 sec\n",
      "epoch 52, loss 0.0003, train acc 0.978, test acc 0.893, time 22.6 sec\n",
      "epoch 53, loss 0.0003, train acc 0.979, test acc 0.896, time 23.2 sec\n",
      "epoch 54, loss 0.0003, train acc 0.977, test acc 0.899, time 22.2 sec\n",
      "epoch 55, loss 0.0002, train acc 0.980, test acc 0.893, time 22.2 sec\n",
      "epoch 56, loss 0.0002, train acc 0.980, test acc 0.892, time 22.7 sec\n",
      "epoch 57, loss 0.0002, train acc 0.980, test acc 0.894, time 22.8 sec\n",
      "epoch 58, loss 0.0002, train acc 0.984, test acc 0.891, time 22.7 sec\n",
      "epoch 59, loss 0.0002, train acc 0.984, test acc 0.891, time 23.0 sec\n",
      "epoch 60, loss 0.0002, train acc 0.983, test acc 0.892, time 23.1 sec\n",
      "epoch 61, loss 0.0002, train acc 0.984, test acc 0.895, time 23.2 sec\n",
      "epoch 62, loss 0.0002, train acc 0.984, test acc 0.895, time 22.8 sec\n",
      "epoch 63, loss 0.0002, train acc 0.985, test acc 0.894, time 23.0 sec\n",
      "epoch 64, loss 0.0002, train acc 0.987, test acc 0.897, time 22.7 sec\n",
      "epoch 65, loss 0.0002, train acc 0.985, test acc 0.893, time 22.9 sec\n",
      "epoch 66, loss 0.0002, train acc 0.985, test acc 0.892, time 23.2 sec\n",
      "epoch 67, loss 0.0002, train acc 0.983, test acc 0.896, time 22.8 sec\n",
      "epoch 68, loss 0.0001, train acc 0.988, test acc 0.887, time 22.6 sec\n",
      "epoch 69, loss 0.0002, train acc 0.987, test acc 0.890, time 22.4 sec\n",
      "epoch 70, loss 0.0002, train acc 0.988, test acc 0.896, time 22.8 sec\n",
      "epoch 71, loss 0.0001, train acc 0.990, test acc 0.895, time 22.9 sec\n",
      "epoch 72, loss 0.0001, train acc 0.989, test acc 0.894, time 22.2 sec\n",
      "epoch 73, loss 0.0001, train acc 0.989, test acc 0.896, time 22.2 sec\n",
      "epoch 74, loss 0.0001, train acc 0.988, test acc 0.895, time 23.3 sec\n",
      "epoch 75, loss 0.0001, train acc 0.989, test acc 0.897, time 23.2 sec\n",
      "epoch 76, loss 0.0001, train acc 0.988, test acc 0.892, time 22.8 sec\n",
      "epoch 77, loss 0.0001, train acc 0.989, test acc 0.894, time 22.6 sec\n",
      "epoch 78, loss 0.0001, train acc 0.991, test acc 0.895, time 22.3 sec\n",
      "epoch 79, loss 0.0001, train acc 0.987, test acc 0.892, time 22.7 sec\n",
      "epoch 80, loss 0.0001, train acc 0.989, test acc 0.896, time 22.3 sec\n",
      "epoch 81, loss 0.0001, train acc 0.991, test acc 0.891, time 22.5 sec\n",
      "epoch 82, loss 0.0001, train acc 0.991, test acc 0.889, time 22.6 sec\n",
      "epoch 83, loss 0.0001, train acc 0.992, test acc 0.891, time 22.5 sec\n",
      "epoch 84, loss 0.0001, train acc 0.991, test acc 0.893, time 22.8 sec\n",
      "epoch 85, loss 0.0001, train acc 0.990, test acc 0.899, time 22.8 sec\n",
      "epoch 86, loss 0.0001, train acc 0.991, test acc 0.895, time 22.4 sec\n",
      "epoch 87, loss 0.0001, train acc 0.991, test acc 0.896, time 23.0 sec\n",
      "epoch 88, loss 0.0001, train acc 0.991, test acc 0.894, time 22.9 sec\n",
      "epoch 89, loss 0.0001, train acc 0.993, test acc 0.894, time 22.5 sec\n",
      "epoch 90, loss 0.0001, train acc 0.993, test acc 0.898, time 22.6 sec\n",
      "epoch 91, loss 0.0001, train acc 0.993, test acc 0.898, time 23.0 sec\n",
      "epoch 92, loss 0.0001, train acc 0.993, test acc 0.893, time 22.9 sec\n",
      "epoch 93, loss 0.0001, train acc 0.994, test acc 0.897, time 23.4 sec\n",
      "epoch 94, loss 0.0001, train acc 0.991, test acc 0.894, time 23.0 sec\n",
      "epoch 95, loss 0.0001, train acc 0.990, test acc 0.897, time 22.1 sec\n",
      "epoch 96, loss 0.0001, train acc 0.993, test acc 0.893, time 23.0 sec\n",
      "epoch 97, loss 0.0001, train acc 0.995, test acc 0.894, time 21.0 sec\n",
      "epoch 98, loss 0.0001, train acc 0.994, test acc 0.896, time 19.1 sec\n",
      "epoch 99, loss 0.0001, train acc 0.994, test acc 0.898, time 18.9 sec\n",
      "epoch 100, loss 0.0001, train acc 0.994, test acc 0.895, time 18.2 sec\n"
     ]
    },
    {
     "data": {
      "image/png": "[encoded data removed]",
      "text/plain": [
       "<Figure size 1000x500 with 2 Axes>"
      ]
     },
     "metadata": {},
     "output_type": "display_data"
    }
   ],
   "source": [
    "#lr, num_epochs = 0.5, 100\n",
    "trainer = torch.optim.SGD(model.parameters(), lr=lr)\n",
    "train(model, train_iter, test_iter, trainer, num_epochs, device)"
   ]
  },
  {
   "cell_type": "code",
   "execution_count": 20,
   "id": "bc166e6e",
   "metadata": {},
   "outputs": [
    {
     "data": {
      "image/png": "[encoded data removed]",
      "text/plain": [
       "<Figure size 640x480 with 1 Axes>"
      ]
     },
     "metadata": {},
     "output_type": "display_data"
    }
   ],
   "source": [
    "plt.imshow(train_dataset[0][0].numpy().reshape(28,28), cmap='gray');"
   ]
  },
  {
   "cell_type": "code",
   "execution_count": 21,
   "id": "44cfd3b1",
   "metadata": {},
   "outputs": [
    {
     "name": "stdout",
     "output_type": "stream",
     "text": [
      "tensor([9, 2, 1, 1, 6, 1, 4, 6, 5, 7, 4, 5, 5, 3, 4, 1, 2, 2, 8, 0, 2, 5, 7, 5,\n",
      "        1, 4, 4, 0, 9, 4, 8, 8, 3, 3, 8, 0, 7, 5, 7, 9, 0, 1, 6, 7, 6, 7, 2, 1,\n",
      "        6, 4, 4, 4, 5, 8, 2, 2, 8, 4, 8, 0, 7, 7, 8, 5, 1, 1, 2, 4, 7, 8, 7, 0,\n",
      "        2, 6, 2, 3, 1, 2, 8, 4, 1, 8, 5, 9, 5, 0, 3, 2, 0, 2, 5, 3, 6, 7, 1, 8,\n",
      "        0, 1, 2, 2, 3, 6, 7, 6, 7, 8, 5, 9, 9, 4, 2, 5, 7, 6, 5, 2, 8, 4, 7, 8,\n",
      "        0, 0, 9, 9, 3, 0, 8, 4, 1, 5, 4, 1, 9, 1, 8, 6, 2, 1, 2, 5, 1, 3, 0, 0,\n",
      "        1, 6, 1, 3, 2, 2, 3, 4, 1, 3, 5, 2, 3, 7, 9, 3, 7, 2, 3, 9, 0, 9, 4, 7,\n",
      "        4, 2, 0, 5, 2, 1, 2, 1, 3, 0, 9, 1, 0, 9, 2, 0, 7, 9, 9, 4, 4, 7, 1, 2,\n",
      "        3, 4, 3, 2, 8, 3, 6, 1, 1, 0, 2, 9, 2, 4, 0, 7, 9, 8, 4, 1, 8, 4, 1, 3,\n",
      "        1, 6, 7, 2, 8, 5, 2, 0, 7, 7, 6, 2, 7, 0, 7, 8, 9, 2, 9, 0, 5, 1, 4, 4,\n",
      "        5, 6, 9, 2, 2, 8, 6, 4, 6, 2, 9, 7, 6, 5, 5, 2], device='cuda:0') tensor([9, 2, 1, 1, 6, 1, 4, 6, 5, 7, 4, 5, 7, 3, 4, 1, 2, 4, 8, 0, 2, 5, 7, 9,\n",
      "        1, 4, 6, 0, 9, 3, 8, 8, 3, 3, 8, 0, 7, 5, 7, 9, 6, 1, 3, 7, 6, 7, 2, 1,\n",
      "        2, 2, 4, 4, 5, 8, 2, 2, 8, 4, 8, 0, 7, 7, 8, 5, 1, 1, 2, 3, 9, 8, 7, 0,\n",
      "        2, 6, 2, 3, 1, 2, 8, 4, 1, 8, 5, 9, 5, 0, 3, 2, 0, 6, 5, 3, 6, 7, 1, 8,\n",
      "        0, 1, 4, 2, 3, 6, 7, 2, 7, 8, 5, 9, 9, 4, 2, 5, 7, 0, 5, 2, 8, 6, 7, 8,\n",
      "        0, 0, 9, 9, 3, 0, 8, 4, 1, 5, 4, 1, 9, 1, 8, 6, 2, 1, 2, 5, 1, 0, 0, 0,\n",
      "        1, 6, 1, 6, 2, 2, 4, 4, 1, 4, 5, 0, 4, 7, 9, 3, 7, 2, 3, 9, 0, 9, 4, 7,\n",
      "        4, 2, 0, 5, 2, 1, 2, 1, 3, 0, 9, 1, 0, 9, 3, 6, 7, 9, 9, 4, 4, 7, 1, 2,\n",
      "        1, 6, 3, 2, 8, 3, 6, 1, 1, 0, 2, 9, 2, 4, 0, 7, 9, 8, 4, 1, 8, 4, 1, 3,\n",
      "        1, 6, 7, 2, 8, 5, 2, 0, 7, 7, 6, 2, 7, 0, 7, 8, 9, 2, 9, 0, 5, 1, 4, 4,\n",
      "        5, 6, 9, 2, 6, 8, 6, 4, 2, 2, 9, 7, 6, 5, 5, 2], device='cuda:0')\n"
     ]
    },
    {
     "data": {
      "image/png": "[encoded data removed]",
      "text/plain": [
       "<Figure size 640x480 with 1 Axes>"
      ]
     },
     "metadata": {},
     "output_type": "display_data"
    }
   ],
   "source": [
    "model = model.to(device)\n",
    "for X, y in test_iter:\n",
    "    X, y = X.to(device), y.to(device)\n",
    "    #acc_sum += (net(X).argmax(axis=1) == y).sum()\n",
    "    #n += y.shape[0]\n",
    "    print(model(X).argmax(axis=1), y)\n",
    "    Xcpu = X.to('cpu')\n",
    "    Mcpu = model.to('cpu')\n",
    "    plt.imshow(Mcpu(Xcpu).argmax(axis=1).numpy().reshape(16,16), cmap='gray');\n",
    "    break\n"
   ]
  },
  {
   "cell_type": "code",
   "execution_count": 22,
   "id": "e913b3e1",
   "metadata": {},
   "outputs": [
    {
     "data": {
      "image/png": "[encoded data removed]",
      "text/plain": [
       "<Figure size 640x480 with 1 Axes>"
      ]
     },
     "metadata": {},
     "output_type": "display_data"
    }
   ],
   "source": [
    "plt.imshow(train_dataset[0][0].numpy().reshape(28,28), cmap='gray');"
   ]
  }
 ],
 "metadata": {
  "kernelspec": {
   "display_name": "Python 3 (ipykernel)",
   "language": "python",
   "name": "python3"
  },
  "language_info": {
   "codemirror_mode": {
    "name": "ipython",
    "version": 3
   },
   "file_extension": ".py",
   "mimetype": "text/x-python",
   "name": "python",
   "nbconvert_exporter": "python",
   "pygments_lexer": "ipython3",
   "version": "3.10.11"
  }
 },
 "nbformat": 4,
 "nbformat_minor": 5
}
