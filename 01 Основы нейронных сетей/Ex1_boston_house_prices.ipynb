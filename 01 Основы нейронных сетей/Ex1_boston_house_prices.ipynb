{
 "cells": [
  {
   "cell_type": "code",
   "execution_count": 22,
   "id": "0ed423bb",
   "metadata": {},
   "outputs": [],
   "source": [
    "import torch\n",
    "from torch.utils.data import TensorDataset, DataLoader\n",
    "#from google.colab import files\n",
    "import pandas as pd\n",
    "import numpy as np\n",
    "from sklearn.model_selection import train_test_split\n",
    "\n",
    "%matplotlib inline\n",
    "from matplotlib import pyplot as plt\n",
    "\n",
    "#import torch\n",
    "#import random\n",
    "\n",
    "#!wget https://drive.google.com/drive/folders/13461-R08muyYnBQTq14z-OG8Tmy9o-5R?usp=share_link\n",
    "#df = pd.read_csv('housing.csv')\n",
    "\n",
    "#data_url = \"http://lib.stat.cmu.edu/datasets/boston\"\n",
    "#raw_df = pd.read_csv(data_url, sep=\"\\s+\", skiprows=22, header=None, names=name)\n",
    "#features = torch.tensor(np.hstack([df.values[::2, :], df.values[1::2, :2]]))\n",
    "#labels = torch.tensor(df.values[1::2, 2])\n",
    "#print(df)\n",
    "#from google.colab import drive\n",
    "#drive.mount('/content/drive')\n",
    "#path = '/content/gdrive/My Drive/Tmp/' # the absolute path to your file\n",
    "#df = pd.read_csv(path + 'housing.csv')\n",
    "#drive.flush_and_unmount()\n",
    "#files.upload()\n",
    "#df = pd.read_csv(\"C:/Tmp/housing.csv\", sep=\" \")\n",
    "#df"
   ]
  },
  {
   "cell_type": "markdown",
   "id": "822cc555-baa2-44a4-b1fa-77fe79d1700f",
   "metadata": {},
   "source": [
    "## Загрузка данных"
   ]
  },
  {
   "cell_type": "code",
   "execution_count": 29,
   "id": "b2db9980",
   "metadata": {},
   "outputs": [],
   "source": [
    "# Boston House Price dataset has 14 features and their description is given as follows:\n",
    "# CRIM per capita crime rate by town\n",
    "# ZN proportion of residential land zoned for lots over 25,000 sq.ft.\n",
    "# INDUS proportion of non-retail business acres per town\n",
    "# CHAS Charles River dummy variable (= 1 if tract bounds river; 0 otherwise)\n",
    "# NOX nitric oxides concentration (parts per 10 million)\n",
    "# RM average number of rooms per dwelling\n",
    "# AGE proportion of owner-occupied units built prior to 1940\n",
    "# DIS weighted distances to five Boston employment centres\n",
    "# RAD index of accessibility to radial highways\n",
    "# TAX full-value property-tax rate per dollar 10,000.\n",
    "# PTRATIO pupil-teacher ratio by town\n",
    "# B 1000(Bk - 0.63)^2 where Bk is the proportion of blacks by town\n",
    "# LSTAT % lower status of the population\n",
    "# MEDV Median value of owner-occupied homes in $1000's\n",
    "\n",
    "# Список названий колонок\n",
    "columns = ['CRIM', 'ZN', 'INDUS', 'CHAS', 'NOX', 'RM', 'AGE', \n",
    "          'DIS', 'RAD', 'TAX', 'PTRATIO', 'B', 'LSTAT', 'MEDV']\n",
    "\n",
    "# чтение данных из файла\n",
    "df = pd.read_csv(\"housing.csv\", sep='\\s+', names=columns, dtype=np.float32)\n",
    "\n",
    "# Разделение на признаки и целевую переменную\n",
    "features = df.drop('MEDV', axis=1).values\n",
    "labels = df['MEDV'].values\n",
    "#print(features)\n",
    "#print(labels)\n",
    "\n",
    "# # Автоматическое создание графиков\n",
    "# plt.figure(figsize=(15, 20))\n",
    "\n",
    "# # Создаем подграфики для всех 13 признаков\n",
    "# for i, column in enumerate(columns[:-1]):  # Исключаем целевую переменную MEDV\n",
    "#     plt.subplot(5, 3, i+1)\n",
    "#     plt.title(column)\n",
    "#     plt.scatter(features[:, i], labels, s=1, alpha=0.5)\n",
    "#     plt.tight_layout()  # Автоматическая настройка отступов\n",
    "\n",
    "# plt.show()"
   ]
  },
  {
   "cell_type": "code",
   "execution_count": 30,
   "id": "46333f18",
   "metadata": {},
   "outputs": [
    {
     "data": {
      "text/html": [
       "<div>\n",
       "<style scoped>\n",
       "    .dataframe tbody tr th:only-of-type {\n",
       "        vertical-align: middle;\n",
       "    }\n",
       "\n",
       "    .dataframe tbody tr th {\n",
       "        vertical-align: top;\n",
       "    }\n",
       "\n",
       "    .dataframe thead th {\n",
       "        text-align: right;\n",
       "    }\n",
       "</style>\n",
       "<table border=\"1\" class=\"dataframe\">\n",
       "  <thead>\n",
       "    <tr style=\"text-align: right;\">\n",
       "      <th></th>\n",
       "      <th>CRIM</th>\n",
       "      <th>ZN</th>\n",
       "      <th>INDUS</th>\n",
       "      <th>CHAS</th>\n",
       "      <th>NOX</th>\n",
       "      <th>RM</th>\n",
       "      <th>AGE</th>\n",
       "      <th>DIS</th>\n",
       "      <th>RAD</th>\n",
       "      <th>TAX</th>\n",
       "      <th>PTRATIO</th>\n",
       "      <th>B</th>\n",
       "      <th>LSTAT</th>\n",
       "      <th>MEDV</th>\n",
       "    </tr>\n",
       "  </thead>\n",
       "  <tbody>\n",
       "    <tr>\n",
       "      <th>0</th>\n",
       "      <td>0.00632</td>\n",
       "      <td>18.0</td>\n",
       "      <td>2.31</td>\n",
       "      <td>0.0</td>\n",
       "      <td>0.538</td>\n",
       "      <td>6.575</td>\n",
       "      <td>65.199997</td>\n",
       "      <td>4.0900</td>\n",
       "      <td>1.0</td>\n",
       "      <td>296.0</td>\n",
       "      <td>15.300000</td>\n",
       "      <td>396.899994</td>\n",
       "      <td>4.98</td>\n",
       "      <td>24.000000</td>\n",
       "    </tr>\n",
       "    <tr>\n",
       "      <th>1</th>\n",
       "      <td>0.02731</td>\n",
       "      <td>0.0</td>\n",
       "      <td>7.07</td>\n",
       "      <td>0.0</td>\n",
       "      <td>0.469</td>\n",
       "      <td>6.421</td>\n",
       "      <td>78.900002</td>\n",
       "      <td>4.9671</td>\n",
       "      <td>2.0</td>\n",
       "      <td>242.0</td>\n",
       "      <td>17.799999</td>\n",
       "      <td>396.899994</td>\n",
       "      <td>9.14</td>\n",
       "      <td>21.600000</td>\n",
       "    </tr>\n",
       "    <tr>\n",
       "      <th>2</th>\n",
       "      <td>0.02729</td>\n",
       "      <td>0.0</td>\n",
       "      <td>7.07</td>\n",
       "      <td>0.0</td>\n",
       "      <td>0.469</td>\n",
       "      <td>7.185</td>\n",
       "      <td>61.099998</td>\n",
       "      <td>4.9671</td>\n",
       "      <td>2.0</td>\n",
       "      <td>242.0</td>\n",
       "      <td>17.799999</td>\n",
       "      <td>392.829987</td>\n",
       "      <td>4.03</td>\n",
       "      <td>34.700001</td>\n",
       "    </tr>\n",
       "    <tr>\n",
       "      <th>3</th>\n",
       "      <td>0.03237</td>\n",
       "      <td>0.0</td>\n",
       "      <td>2.18</td>\n",
       "      <td>0.0</td>\n",
       "      <td>0.458</td>\n",
       "      <td>6.998</td>\n",
       "      <td>45.799999</td>\n",
       "      <td>6.0622</td>\n",
       "      <td>3.0</td>\n",
       "      <td>222.0</td>\n",
       "      <td>18.700001</td>\n",
       "      <td>394.630005</td>\n",
       "      <td>2.94</td>\n",
       "      <td>33.400002</td>\n",
       "    </tr>\n",
       "    <tr>\n",
       "      <th>4</th>\n",
       "      <td>0.06905</td>\n",
       "      <td>0.0</td>\n",
       "      <td>2.18</td>\n",
       "      <td>0.0</td>\n",
       "      <td>0.458</td>\n",
       "      <td>7.147</td>\n",
       "      <td>54.200001</td>\n",
       "      <td>6.0622</td>\n",
       "      <td>3.0</td>\n",
       "      <td>222.0</td>\n",
       "      <td>18.700001</td>\n",
       "      <td>396.899994</td>\n",
       "      <td>5.33</td>\n",
       "      <td>36.200001</td>\n",
       "    </tr>\n",
       "  </tbody>\n",
       "</table>\n",
       "</div>"
      ],
      "text/plain": [
       "      CRIM    ZN  INDUS  CHAS    NOX     RM        AGE     DIS  RAD    TAX  \\\n",
       "0  0.00632  18.0   2.31   0.0  0.538  6.575  65.199997  4.0900  1.0  296.0   \n",
       "1  0.02731   0.0   7.07   0.0  0.469  6.421  78.900002  4.9671  2.0  242.0   \n",
       "2  0.02729   0.0   7.07   0.0  0.469  7.185  61.099998  4.9671  2.0  242.0   \n",
       "3  0.03237   0.0   2.18   0.0  0.458  6.998  45.799999  6.0622  3.0  222.0   \n",
       "4  0.06905   0.0   2.18   0.0  0.458  7.147  54.200001  6.0622  3.0  222.0   \n",
       "\n",
       "     PTRATIO           B  LSTAT       MEDV  \n",
       "0  15.300000  396.899994   4.98  24.000000  \n",
       "1  17.799999  396.899994   9.14  21.600000  \n",
       "2  17.799999  392.829987   4.03  34.700001  \n",
       "3  18.700001  394.630005   2.94  33.400002  \n",
       "4  18.700001  396.899994   5.33  36.200001  "
      ]
     },
     "execution_count": 30,
     "metadata": {},
     "output_type": "execute_result"
    }
   ],
   "source": [
    "df.head()"
   ]
  },
  {
   "cell_type": "code",
   "execution_count": 35,
   "id": "a340459c",
   "metadata": {},
   "outputs": [],
   "source": [
    "# df.describe()"
   ]
  },
  {
   "cell_type": "code",
   "execution_count": 40,
   "id": "631f3669",
   "metadata": {},
   "outputs": [
    {
     "name": "stdout",
     "output_type": "stream",
     "text": [
      "Training Shape:  (404, 13)\n",
      "Testing  Shape:  (102, 13)\n"
     ]
    }
   ],
   "source": [
    "# разделение на тренировочный и тестовый наборы\n",
    "x_train, x_test, y_train, y_test = train_test_split(\n",
    "    features, \n",
    "    labels, \n",
    "    test_size=0.2, \n",
    "    random_state=42,\n",
    "    shuffle=True  # Явное указание перемешивания\n",
    ") \n",
    "print('Training Shape: ',x_train.shape)\n",
    "print('Testing  Shape: ',x_test.shape)\n",
    "\n",
    "# Преобразование numpy-массивов в тензоры\n",
    "x_train = torch.from_numpy(x_train).float()\n",
    "y_train = torch.from_numpy(y_train).float()\n",
    "x_test = torch.from_numpy(x_test).float()\n",
    "y_test = torch.from_numpy(y_test).float()\n",
    "\n",
    "# нормализация входных данных\n",
    "x_train = torch.nn.functional.normalize(x_train)\n",
    "x_test = torch.nn.functional.normalize(x_test)"
   ]
  },
  {
   "cell_type": "raw",
   "id": "2d576a0f-113a-4260-ba6b-cc12716ce4b5",
   "metadata": {},
   "source": [
    "Здесь закончил править"
   ]
  },
  {
   "cell_type": "code",
   "execution_count": 9,
   "id": "26863310",
   "metadata": {},
   "outputs": [],
   "source": [
    "batch_size = 5\n",
    " \n",
    "dataset = TensorDataset(x_train, y_train)\n",
    "# Выборочное чтение mini-batches\n",
    "data_iter = DataLoader(dataset, batch_size, shuffle=False) #shuffle=True)\n",
    "\n",
    "# Read a batch to see how it works\n",
    "i=0\n",
    "for X, y in data_iter:\n",
    "    i+=1\n",
    "    #print(i, X, y)\n",
    "    break"
   ]
  },
  {
   "cell_type": "code",
   "execution_count": 10,
   "id": "769936c4",
   "metadata": {},
   "outputs": [],
   "source": [
    "model = torch.nn.Sequential(\n",
    "    torch.nn.Linear(13, 1)\n",
    ")"
   ]
  },
  {
   "cell_type": "code",
   "execution_count": 11,
   "id": "dc62432d",
   "metadata": {},
   "outputs": [
    {
     "name": "stdout",
     "output_type": "stream",
     "text": [
      "tensor([[ 0.0095, -0.0596,  0.1754,  0.2674,  0.1676,  0.2577, -0.2211, -0.1448,\n",
      "          0.0951, -0.0422,  0.2136, -0.0380,  0.1756]])\n"
     ]
    }
   ],
   "source": [
    "print(model[0].weight.data)"
   ]
  },
  {
   "cell_type": "code",
   "execution_count": 12,
   "id": "18cf6ddf",
   "metadata": {},
   "outputs": [
    {
     "name": "stdout",
     "output_type": "stream",
     "text": [
      "tensor([[0.4516, 0.0427, 0.1324, 0.8451, 0.9911, 0.3927, 0.9082, 0.7943, 0.6349,\n",
      "         0.3607, 0.3111, 0.1030, 0.0650]])\n",
      "tensor([0.4837])\n"
     ]
    }
   ],
   "source": [
    "model[0].weight.data = torch.rand(13).requires_grad_(True).reshape((1, 13))\n",
    "model[0].bias.data = torch.rand(1).requires_grad_(True)\n",
    "print(model[0].weight.data)\n",
    "print(model[0].bias.data)"
   ]
  },
  {
   "cell_type": "code",
   "execution_count": 13,
   "id": "d1511778",
   "metadata": {},
   "outputs": [],
   "source": [
    "loss = torch.nn.MSELoss(reduction='mean')"
   ]
  },
  {
   "cell_type": "code",
   "execution_count": 14,
   "id": "b7a05d5d",
   "metadata": {},
   "outputs": [],
   "source": [
    "trainer = torch.optim.SGD(model.parameters(), lr=0.1)"
   ]
  },
  {
   "cell_type": "code",
   "execution_count": 15,
   "id": "8f856c3d",
   "metadata": {},
   "outputs": [],
   "source": [
    "for X, y in data_iter:\n",
    "    #print(X, y) \n",
    "    break"
   ]
  },
  {
   "cell_type": "code",
   "execution_count": 16,
   "id": "60e4215f",
   "metadata": {},
   "outputs": [
    {
     "name": "stdout",
     "output_type": "stream",
     "text": [
      "epoch 100, loss: 56.820732\n",
      "epoch 200, loss: 51.078812\n",
      "epoch 300, loss: 46.818089\n",
      "epoch 400, loss: 43.689186\n",
      "epoch 500, loss: 41.384636\n",
      "epoch 600, loss: 39.674969\n",
      "epoch 700, loss: 38.394745\n",
      "epoch 800, loss: 37.425388\n",
      "epoch 900, loss: 36.681988\n",
      "epoch 1000, loss: 36.103535\n"
     ]
    }
   ],
   "source": [
    "num_epochs = 1000\n",
    "for epoch in range(1, num_epochs + 1):\n",
    "    for X, y in data_iter:\n",
    "        trainer.zero_grad()\n",
    "        l = loss(model(X).reshape(-1), y)\n",
    "        l.backward()\n",
    "        trainer.step()  \n",
    "    l = loss(model(x_train).reshape(-1), y_train)\n",
    "    if epoch % 100 == 0:\n",
    "        print('epoch %d, loss: %f' % (epoch, l.item()))\n",
    "        #print('epoch %d, loss: %f' % (epoch, l.item()),'|\\tw', model[0].weight.data, '|\\tb', model[0].bias.data)"
   ]
  },
  {
   "cell_type": "markdown",
   "id": "dfa63df0",
   "metadata": {},
   "source": [
    "Проверка данных на тренировочном наборе"
   ]
  },
  {
   "cell_type": "code",
   "execution_count": 18,
   "id": "a8291c05",
   "metadata": {},
   "outputs": [
    {
     "name": "stdout",
     "output_type": "stream",
     "text": [
      "tensor(36.1035, grad_fn=<MseLossBackward0>)\n"
     ]
    }
   ],
   "source": [
    "l = loss(model(x_train).reshape(-1), y_train)\n",
    "print(l)"
   ]
  },
  {
   "cell_type": "markdown",
   "id": "13989e5b",
   "metadata": {},
   "source": [
    "Проверка данных на тестовом наборе"
   ]
  },
  {
   "cell_type": "code",
   "execution_count": 20,
   "id": "880af4a1",
   "metadata": {},
   "outputs": [
    {
     "name": "stdout",
     "output_type": "stream",
     "text": [
      "tensor(27.2349, grad_fn=<MseLossBackward0>)\n"
     ]
    }
   ],
   "source": [
    "x_test = torch.nn.functional.normalize(x_test)\n",
    "l = loss(model(x_test).reshape(-1), y_test)\n",
    "print(l)"
   ]
  }
 ],
 "metadata": {
  "kernelspec": {
   "display_name": "Python [conda env:base] *",
   "language": "python",
   "name": "conda-base-py"
  },
  "language_info": {
   "codemirror_mode": {
    "name": "ipython",
    "version": 3
   },
   "file_extension": ".py",
   "mimetype": "text/x-python",
   "name": "python",
   "nbconvert_exporter": "python",
   "pygments_lexer": "ipython3",
   "version": "3.11.5"
  }
 },
 "nbformat": 4,
 "nbformat_minor": 5
}
